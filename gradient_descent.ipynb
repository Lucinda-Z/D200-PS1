{
 "cells": [
  {
   "cell_type": "code",
   "execution_count": null,
   "metadata": {},
   "outputs": [],
   "source": [
    "import numpy as np\n",
    "from sklearn.linear_model import LinearRegression\n"
   ]
  },
  {
   "cell_type": "markdown",
   "metadata": {},
   "source": [
    "# Problem 1(b)"
   ]
  },
  {
   "cell_type": "code",
   "execution_count": 3,
   "metadata": {},
   "outputs": [],
   "source": [
    "# Loss function: Mean Squared Error (MSE)\n",
    "def loss(X, y, theta):\n",
    "    \"\"\"\n",
    "    Computes the MSE cost function for a univariate (or multivariate) linear regression in matrix form:\n",
    "        J(theta) = (1 / m) * (X theta - y)^T (X theta - y)\n",
    "    \"\"\"\n",
    "    m = len(y)\n",
    "    residuals = X.dot(theta) - y  # shape: (m,)\n",
    "    return (1 / m) * (residuals.T @ residuals)\n",
    "\n",
    "# Gradient function\n",
    "def gradient(X, y, theta):\n",
    "    \"\"\"\n",
    "    Computes the gradient of the MSE cost function in matrix form:\n",
    "        dJ/dtheta = (2 / m) * X^T (X theta - y)\n",
    "    \"\"\"\n",
    "    m = len(y)\n",
    "    residuals = X.dot(theta) - y  # shape: (m,)\n",
    "    return (2 / m) * X.T.dot(residuals)\n"
   ]
  }
 ],
 "metadata": {
  "kernelspec": {
   "display_name": "gradient",
   "language": "python",
   "name": "python3"
  },
  "language_info": {
   "codemirror_mode": {
    "name": "ipython",
    "version": 3
   },
   "file_extension": ".py",
   "mimetype": "text/x-python",
   "name": "python",
   "nbconvert_exporter": "python",
   "pygments_lexer": "ipython3",
   "version": "3.12.8"
  }
 },
 "nbformat": 4,
 "nbformat_minor": 2
}
